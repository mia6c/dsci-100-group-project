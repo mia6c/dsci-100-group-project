{
 "cells": [
  {
   "cell_type": "markdown",
   "id": "6f1e51d7-478e-413a-99dd-38ecde08ebe2",
   "metadata": {},
   "source": [
    "# Project Final Report\n",
    "\n",
    "Group Member: Mia , Selima, Daniel \n",
    "\n",
    "## Introduction\n",
    "> **Background Information:** The project that we are working on surrounds the prediction of the usage of a video game research server. We are provided two datasets as a supplement to answer any predictive questions we came up with. This dataset is provided by the Pacific Laboratory for Artificial Intelligence, and they aim to understand in more detail the actions of players in the video game, Minecraft. \n",
    "\n",
    "**Our Report**\n",
    "\n",
    "\n"
   ]
  }
 ],
 "metadata": {
  "kernelspec": {
   "display_name": "R",
   "language": "R",
   "name": "ir"
  },
  "language_info": {
   "codemirror_mode": "r",
   "file_extension": ".r",
   "mimetype": "text/x-r-source",
   "name": "R",
   "pygments_lexer": "r",
   "version": "4.3.3"
  }
 },
 "nbformat": 4,
 "nbformat_minor": 5
}
