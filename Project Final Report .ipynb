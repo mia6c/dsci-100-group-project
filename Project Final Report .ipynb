{
 "cells": [
  {
   "cell_type": "markdown",
   "id": "6f1e51d7-478e-413a-99dd-38ecde08ebe2",
   "metadata": {},
   "source": [
    "# Project Final Report\n",
    "\n",
    "Group Member: Mia , Selima, Daniel \n",
    "\n",
    "\n",
    "\n",
    "\n"
   ]
  },
  {
   "cell_type": "code",
   "execution_count": null,
   "id": "16b353ed-f1de-4722-9b61-21abd33bd7ed",
   "metadata": {},
   "outputs": [],
   "source": []
  }
 ],
 "metadata": {
  "kernelspec": {
   "display_name": "R",
   "language": "R",
   "name": "ir"
  },
  "language_info": {
   "codemirror_mode": "r",
   "file_extension": ".r",
   "mimetype": "text/x-r-source",
   "name": "R",
   "pygments_lexer": "r",
   "version": "4.3.3"
  }
 },
 "nbformat": 4,
 "nbformat_minor": 5
}
