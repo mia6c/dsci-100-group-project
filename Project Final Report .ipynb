{
 "cells": [
  {
   "cell_type": "markdown",
   "id": "6f1e51d7-478e-413a-99dd-38ecde08ebe2",
   "metadata": {},
   "source": [
    "Project Final Report"
   ]
  },
  {
   "cell_type": "code",
   "execution_count": null,
   "id": "804d3a47-22a2-4ed0-824e-7b78fd5f75a8",
   "metadata": {},
   "outputs": [],
   "source": [
    "hi im trying something new"
   ]
  },
  {
   "cell_type": "markdown",
   "id": "f8835877-ff6c-40ac-b339-e460720daf47",
   "metadata": {},
   "source": [
    "fhjdkf"
   ]
  },
  {
   "cell_type": "code",
   "execution_count": null,
   "id": "1485cdcc-f69e-407b-ae2b-d3a3ffdb8772",
   "metadata": {},
   "outputs": [],
   "source": [
    "why doesn't it pop up on changed"
   ]
  },
  {
   "cell_type": "markdown",
   "id": "c03bab95-b701-4f79-8a82-e36b9b4d6035",
   "metadata": {},
   "source": [
    "is it still loading"
   ]
  }
 ],
 "metadata": {
  "kernelspec": {
   "display_name": "R",
   "language": "R",
   "name": "ir"
  },
  "language_info": {
   "codemirror_mode": "r",
   "file_extension": ".r",
   "mimetype": "text/x-r-source",
   "name": "R",
   "pygments_lexer": "r",
   "version": "4.3.3"
  }
 },
 "nbformat": 4,
 "nbformat_minor": 5
}
