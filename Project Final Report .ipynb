{
 "cells": [
  {
   "cell_type": "markdown",
   "id": "6f1e51d7-478e-413a-99dd-38ecde08ebe2",
   "metadata": {},
   "source": [
    "Project Final Report"
   ]
  },
  {
   "cell_type": "code",
   "execution_count": null,
   "id": "804d3a47-22a2-4ed0-824e-7b78fd5f75a8",
   "metadata": {},
   "outputs": [],
   "source": [
    "hi im trying something new"
   ]
  }
 ],
 "metadata": {
  "kernelspec": {
   "display_name": "R",
   "language": "R",
   "name": "ir"
  },
  "language_info": {
   "codemirror_mode": "r",
   "file_extension": ".r",
   "mimetype": "text/x-r-source",
   "name": "R",
   "pygments_lexer": "r",
   "version": "4.3.3"
  }
 },
 "nbformat": 4,
 "nbformat_minor": 5
}
