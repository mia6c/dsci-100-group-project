{
 "cells": [
  {
   "cell_type": "markdown",
   "id": "6f1e51d7-478e-413a-99dd-38ecde08ebe2",
   "metadata": {},
   "source": [
    "# **Project Final Report**"
   ]
  },
  {
   "cell_type": "markdown",
   "id": "f575186d-b5dd-4907-8113-861d53350ac6",
   "metadata": {},
   "source": [
    "Selima Yang, Mia Chow, Daniel Zhang"
   ]
  },
  {
   "cell_type": "markdown",
   "id": "c8f1ab24-5924-439d-be6c-5dc1105b9751",
   "metadata": {},
   "source": [
    "### (1) Introduction:"
   ]
  },
  {
   "cell_type": "markdown",
   "id": "78dcaf11-6457-47cb-a0bd-d89672d522c6",
   "metadata": {},
   "source": [
    "The project that we are working on surrounds the prediction of the usage of a video game research server. We are provided two datasets as a supplement to answer any predictive questions we came up with. This dataset is provided by the Pacific Laboratory for Artificial Intelligence, and they aim to understand in more detail the actions of players in the video game, Minecraft. "
   ]
  },
  {
   "cell_type": "markdown",
   "id": "f8835877-ff6c-40ac-b339-e460720daf47",
   "metadata": {},
   "source": [
    "Question: How does the amount of hours a player spend on the server, and the number of sessions predict gender? \n",
    "- The number of sessions and the amount of hours are the predictor variables\n",
    "- The gender of players is the response variable of interest"
   ]
  },
  {
   "cell_type": "markdown",
   "id": "eadf087a-1c67-4dcd-9199-2337d71e142b",
   "metadata": {},
   "source": [
    "### (2) Methods & Results\n",
    "\n",
    "We first load the data using HTML form, which allows us to see the dataset in the CSV format. Then, we select the variables in question: hashedEmail, played_hours, and gender from the players.csv dataset, and hashedEmail, sessioncount from the second dataset. We join the two datasets together. \n",
    "\n"
   ]
  },
  {
   "cell_type": "markdown",
   "id": "c03bab95-b701-4f79-8a82-e36b9b4d6035",
   "metadata": {},
   "source": [
    "is it still loading"
   ]
  },
  {
   "cell_type": "markdown",
   "id": "a6d170a5-9da1-4c36-874f-d58f83ae5328",
   "metadata": {},
   "source": [
    "https://github.com/mia6c/dsci-100-group-project.git"
   ]
  },
  {
   "cell_type": "code",
   "execution_count": null,
   "id": "593e7faa-2de7-47af-81ee-17cc582bd5f3",
   "metadata": {},
   "outputs": [],
   "source": []
  }
 ],
 "metadata": {
  "kernelspec": {
   "display_name": "R",
   "language": "R",
   "name": "ir"
  },
  "language_info": {
   "codemirror_mode": "r",
   "file_extension": ".r",
   "mimetype": "text/x-r-source",
   "name": "R",
   "pygments_lexer": "r",
   "version": "4.3.3"
  }
 },
 "nbformat": 4,
 "nbformat_minor": 5
}
